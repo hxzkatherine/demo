{
 "cells": [
  {
   "cell_type": "code",
   "execution_count": 41,
   "metadata": {},
   "outputs": [],
   "source": [
    "import numpy as np\n",
    "import matplotlib.pyplot as plt\n",
    "from sklearn.linear_model import LinearRegression\n",
    "import math"
   ]
  },
  {
   "cell_type": "markdown",
   "metadata": {},
   "source": [
    "# 1. Optimization I: Linear Regression"
   ]
  },
  {
   "cell_type": "markdown",
   "metadata": {},
   "source": [
    "## 1.1 Single Variable Regression"
   ]
  },
  {
   "cell_type": "code",
   "execution_count": 42,
   "metadata": {},
   "outputs": [],
   "source": [
    "from numpy import genfromtxt\n",
    "single_data = genfromtxt('/Users/hxz/Desktop/single_variate_optimization.csv', delimiter=',' ,  skip_header=1)"
   ]
  },
  {
   "cell_type": "markdown",
   "metadata": {},
   "source": [
    "### （1）Calculate the variance, standard deviation of X and Y"
   ]
  },
  {
   "cell_type": "code",
   "execution_count": 43,
   "metadata": {},
   "outputs": [
    {
     "name": "stdout",
     "output_type": "stream",
     "text": [
      "(5000,)\n",
      "(5000,)\n"
     ]
    }
   ],
   "source": [
    "X=single_data[:,0]\n",
    "Y=single_data[:,1]\n",
    "print (X.shape)\n",
    "print (Y.shape)"
   ]
  },
  {
   "cell_type": "markdown",
   "metadata": {},
   "source": [
    "#### variance"
   ]
  },
  {
   "cell_type": "code",
   "execution_count": 44,
   "metadata": {},
   "outputs": [
    {
     "name": "stdout",
     "output_type": "stream",
     "text": [
      "3.902241432608457\n",
      "21.803830968544478\n"
     ]
    }
   ],
   "source": [
    "print (np.cov(X))\n",
    "print (np.cov(Y))"
   ]
  },
  {
   "cell_type": "markdown",
   "metadata": {},
   "source": [
    "#### standard deviation"
   ]
  },
  {
   "cell_type": "code",
   "execution_count": 45,
   "metadata": {},
   "outputs": [
    {
     "name": "stdout",
     "output_type": "stream",
     "text": [
      "1.9752116302619158\n",
      "4.668990276532044\n"
     ]
    }
   ],
   "source": [
    "print(np.std(X))\n",
    "print(np.std(Y))"
   ]
  },
  {
   "cell_type": "markdown",
   "metadata": {},
   "source": [
    "### (2) Calculate the covariance, correlation coefficient of X and Y"
   ]
  },
  {
   "cell_type": "markdown",
   "metadata": {},
   "source": [
    "#### covariance"
   ]
  },
  {
   "cell_type": "code",
   "execution_count": 46,
   "metadata": {},
   "outputs": [
    {
     "name": "stdout",
     "output_type": "stream",
     "text": [
      "9.009337257353502\n",
      "9.009337257353502\n"
     ]
    }
   ],
   "source": [
    "print(np.matmul(X-np.mean(X), Y.T-np.mean(Y))/4999)\n",
    "print (np.cov(X,Y)[0][1])"
   ]
  },
  {
   "cell_type": "markdown",
   "metadata": {},
   "source": [
    "#### correlation coefficient"
   ]
  },
  {
   "cell_type": "code",
   "execution_count": 59,
   "metadata": {},
   "outputs": [
    {
     "name": "stdout",
     "output_type": "stream",
     "text": [
      "0.9769137922572534\n",
      "0.9767184094988021\n"
     ]
    }
   ],
   "source": [
    "print (np.cov(X, Y)[0][1]/np.std(X)/np.std(Y))\n",
    "print (np.corrcoef(X, Y)[0][1])"
   ]
  },
  {
   "cell_type": "markdown",
   "metadata": {},
   "source": [
    "### (3) Using the LinearRegression from sklearn package in python and build a linear regression model Y ∼ X, what are β0 and β1?"
   ]
  },
  {
   "cell_type": "code",
   "execution_count": 48,
   "metadata": {},
   "outputs": [
    {
     "name": "stdout",
     "output_type": "stream",
     "text": [
      "[array([[2.30875957]]), array([0.99299827])]\n"
     ]
    }
   ],
   "source": [
    "reg = LinearRegression().fit(X.reshape((5000,1)), Y.reshape((5000,1)))\n",
    "print ([reg.coef_, reg.intercept_])"
   ]
  },
  {
   "cell_type": "markdown",
   "metadata": {},
   "source": [
    "### (4) Can you replicate β1 using the calculation from (1) and (2)? How about β0?"
   ]
  },
  {
   "cell_type": "code",
   "execution_count": 62,
   "metadata": {},
   "outputs": [
    {
     "name": "stdout",
     "output_type": "stream",
     "text": [
      "2.3092214156588073\n"
     ]
    }
   ],
   "source": [
    "β1=np.cov(X,Y)[0][1]/np.var(X)\n",
    "print(β1)"
   ]
  },
  {
   "cell_type": "code",
   "execution_count": 64,
   "metadata": {},
   "outputs": [
    {
     "name": "stdout",
     "output_type": "stream",
     "text": [
      "0.9930106748786892\n"
     ]
    }
   ],
   "source": [
    "β0=np.mean(Y)-β1*np.mean(X)\n",
    "print (β0)"
   ]
  },
  {
   "cell_type": "markdown",
   "metadata": {},
   "source": [
    "## 1.2 Multivariate Regression"
   ]
  },
  {
   "cell_type": "code",
   "execution_count": 68,
   "metadata": {},
   "outputs": [],
   "source": [
    "multi_data = genfromtxt('/Users/hxz/Desktop/multi_variate_optimization.csv', delimiter=',' ,  skip_header=1)"
   ]
  },
  {
   "cell_type": "markdown",
   "metadata": {},
   "source": [
    "#### (1) Using the LinearRegression from sklearn package in python and build a linear regression model Y ∼ X, what are the βs?"
   ]
  },
  {
   "cell_type": "code",
   "execution_count": 69,
   "metadata": {},
   "outputs": [],
   "source": [
    "X1=multi_data[:,0]\n",
    "X2=multi_data[:,1]\n",
    "X3=multi_data[:,2]\n",
    "Y=multi_data[:,3]"
   ]
  },
  {
   "cell_type": "code",
   "execution_count": 70,
   "metadata": {},
   "outputs": [
    {
     "data": {
      "text/plain": [
       "(5000,)"
      ]
     },
     "execution_count": 70,
     "metadata": {},
     "output_type": "execute_result"
    }
   ],
   "source": [
    "X1.shape"
   ]
  },
  {
   "cell_type": "code",
   "execution_count": 74,
   "metadata": {},
   "outputs": [
    {
     "name": "stdout",
     "output_type": "stream",
     "text": [
      "[array([[3.90481328, 1.19976052, 4.57225211]]), array([5.00478048])]\n"
     ]
    }
   ],
   "source": [
    "from sklearn.linear_model import LinearRegression\n",
    "multi= LinearRegression().fit(multi_data[:,(0,1,2)], Y.reshape((5000,1)))\n",
    "print ([multi.coef_, multi.intercept_])"
   ]
  },
  {
   "cell_type": "markdown",
   "metadata": {},
   "source": [
    "### (2) Caculate the βs using the algorithm that we derived in class. hint: βˆ = (XT X)−1XT Y . Make sure you replicate β0."
   ]
  },
  {
   "cell_type": "code",
   "execution_count": 83,
   "metadata": {},
   "outputs": [
    {
     "name": "stdout",
     "output_type": "stream",
     "text": [
      "(5000, 3)\n",
      "(5000, 4)\n",
      "(5000, 1)\n",
      "[[3.90481328]\n",
      " [1.19976052]\n",
      " [4.57225211]\n",
      " [5.00478048]]\n"
     ]
    }
   ],
   "source": [
    "X3d=multi_data[:, (0,1,2)]\n",
    "print (X3d.shape)\n",
    "X3d=np.column_stack([X3d, np.repeat(1, 5000)])\n",
    "print (X3d.shape)\n",
    "y=Y.reshape((5000,1))\n",
    "print (y.shape)\n",
    "print (np.matmul(np.matmul(np.linalg.inv(np.matmul(X3d.T, X3d)), X3d.T), y))"
   ]
  },
  {
   "cell_type": "markdown",
   "metadata": {},
   "source": [
    "# 2. Optimization II: Logistic Regression"
   ]
  },
  {
   "cell_type": "markdown",
   "metadata": {},
   "source": [
    "## (1) Using the LogisticRegression from sklearn package in python and build a logistic regression model Y ∼ X, what are the βs? Hint: make sure that you set the regularization parameter to be large e.g. C = 1e4. See the code below for your reference"
   ]
  },
  {
   "cell_type": "code",
   "execution_count": 84,
   "metadata": {},
   "outputs": [],
   "source": [
    "from sklearn.linear_model import LogisticRegression"
   ]
  },
  {
   "cell_type": "code",
   "execution_count": null,
   "metadata": {},
   "outputs": [],
   "source": []
  }
 ],
 "metadata": {
  "kernelspec": {
   "display_name": "Python 3",
   "language": "python",
   "name": "python3"
  },
  "language_info": {
   "codemirror_mode": {
    "name": "ipython",
    "version": 3
   },
   "file_extension": ".py",
   "mimetype": "text/x-python",
   "name": "python",
   "nbconvert_exporter": "python",
   "pygments_lexer": "ipython3",
   "version": "3.7.4"
  }
 },
 "nbformat": 4,
 "nbformat_minor": 2
}
