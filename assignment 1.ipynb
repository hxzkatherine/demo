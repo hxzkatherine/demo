{
 "cells": [
  {
   "cell_type": "code",
   "execution_count": 52,
   "metadata": {},
   "outputs": [],
   "source": [
    "import numpy as np\n",
    "from numpy.linalg import inv\n",
    "import matplotlib.pyplot as plt\n",
    "import matplotlib.image as mpimg"
   ]
  },
  {
   "cell_type": "markdown",
   "metadata": {},
   "source": [
    "# 1.1 Create a random 100-by-100 matrix M"
   ]
  },
  {
   "cell_type": "code",
   "execution_count": 14,
   "metadata": {},
   "outputs": [],
   "source": [
    "M=np.random.randn(100, 100)"
   ]
  },
  {
   "cell_type": "code",
   "execution_count": 6,
   "metadata": {
    "scrolled": false
   },
   "outputs": [
    {
     "name": "stdout",
     "output_type": "stream",
     "text": [
      "[[ 1.74517649 -0.07822033 -0.363688   ... -1.7224591  -1.30273443\n",
      "  -1.74422007]\n",
      " [ 0.58020408 -0.51434317  0.21769797 ...  0.69796438  0.70930277\n",
      "  -0.91452755]\n",
      " [-0.56055237 -0.83732615 -0.93580083 ...  0.1807927   0.66688367\n",
      "   1.91845489]\n",
      " ...\n",
      " [-1.10688693 -3.68225549 -1.40172169 ...  0.14698756 -1.63997037\n",
      "  -1.57303457]\n",
      " [-0.21729528 -1.07344463 -0.56816704 ...  0.09105984  0.68159027\n",
      "   0.20076753]\n",
      " [-0.49666204 -0.1765729   1.00269065 ... -0.30406683 -0.44793671\n",
      "   0.07729883]]\n"
     ]
    }
   ],
   "source": [
    "print (M)"
   ]
  },
  {
   "cell_type": "markdown",
   "metadata": {},
   "source": [
    "# 1.2 Calculate the mean and variance "
   ]
  },
  {
   "cell_type": "code",
   "execution_count": 9,
   "metadata": {},
   "outputs": [],
   "source": [
    "M_mean=np.sum(M)/10000"
   ]
  },
  {
   "cell_type": "code",
   "execution_count": 11,
   "metadata": {},
   "outputs": [
    {
     "name": "stdout",
     "output_type": "stream",
     "text": [
      "-0.0016599427742324088\n"
     ]
    }
   ],
   "source": [
    "print (M_mean)"
   ]
  },
  {
   "cell_type": "code",
   "execution_count": 12,
   "metadata": {},
   "outputs": [
    {
     "name": "stdout",
     "output_type": "stream",
     "text": [
      "-0.0016599427742324088\n"
     ]
    }
   ],
   "source": [
    "print (np.mean(M))"
   ]
  },
  {
   "cell_type": "code",
   "execution_count": 13,
   "metadata": {},
   "outputs": [
    {
     "name": "stdout",
     "output_type": "stream",
     "text": [
      "1.0076731155460459\n"
     ]
    }
   ],
   "source": [
    "print(np.var(M))"
   ]
  },
  {
   "cell_type": "markdown",
   "metadata": {},
   "source": [
    "# 1.3 Use \"for loop\" calculate the mean of each row"
   ]
  },
  {
   "cell_type": "code",
   "execution_count": 18,
   "metadata": {},
   "outputs": [],
   "source": [
    "for i in range(M.shape[0]):\n",
    "    M_mean1=np.mean(M[i])\n",
    "    #print (M_mean1)"
   ]
  },
  {
   "cell_type": "markdown",
   "metadata": {},
   "source": [
    "# 1.4 Use matrix calculate the mean of each row"
   ]
  },
  {
   "cell_type": "code",
   "execution_count": 26,
   "metadata": {},
   "outputs": [
    {
     "name": "stdout",
     "output_type": "stream",
     "text": [
      "[-0.17028399 -0.07653459 -0.08392433 -0.15909088  0.1370908   0.05428576\n",
      " -0.15739116 -0.05188347 -0.1080446  -0.04008806  0.05989     0.06528032\n",
      "  0.14086898 -0.02567156  0.04963414  0.17776962  0.0111076  -0.07125786\n",
      "  0.11064251 -0.09357112  0.01587802 -0.16479845  0.13677921 -0.02899855\n",
      "  0.02378674  0.04715253  0.12031676 -0.17346287 -0.06575828 -0.11343397\n",
      "  0.00876505 -0.18463907  0.07087198  0.04000452 -0.03229997 -0.00320265\n",
      "  0.0495869   0.1587491   0.1064716   0.06459698  0.02358265 -0.04546757\n",
      "  0.21755787 -0.0388161  -0.02638202  0.10273871  0.01576246 -0.01650991\n",
      " -0.05716575  0.11325676  0.01118636 -0.04061126  0.04399741  0.13214977\n",
      " -0.08297452  0.06072192 -0.00071106  0.03121451 -0.03348841 -0.04488305\n",
      "  0.05484261 -0.00120565 -0.07390025  0.01287075 -0.11684731  0.19913787\n",
      " -0.05056128 -0.02958232  0.07617613  0.05705432  0.00776202  0.07255842\n",
      "  0.07814241  0.08515643 -0.10987737 -0.15511742  0.15225436  0.10730978\n",
      "  0.0615199   0.17125098  0.14736261 -0.11473133  0.06531327  0.00227247\n",
      "  0.07880336 -0.01130895  0.15670561 -0.00868608 -0.03246679 -0.07427325\n",
      "  0.0161993   0.07636703 -0.15770308  0.04359813 -0.04141047 -0.17252671\n",
      " -0.1114599   0.01009301 -0.13458779 -0.03782769]\n"
     ]
    }
   ],
   "source": [
    "print (np.matmul(M, np.ones(100))/100)"
   ]
  },
  {
   "cell_type": "markdown",
   "metadata": {},
   "source": [
    "# 1.5 Calculate the inverse matrix M−1"
   ]
  },
  {
   "cell_type": "code",
   "execution_count": 41,
   "metadata": {},
   "outputs": [
    {
     "name": "stdout",
     "output_type": "stream",
     "text": [
      "[[-0.04059516 -0.13717964 -0.102813   ...  0.03036891  0.00567844\n",
      "  -0.05216608]\n",
      " [ 0.06840346  0.25744264  0.09836132 ... -0.03533736 -0.00946136\n",
      "   0.15895678]\n",
      " [-0.0267026  -0.08499249 -0.02715745 ...  0.0080399   0.03016032\n",
      "  -0.11222048]\n",
      " ...\n",
      " [-0.14169007 -0.19606906 -0.04073734 ...  0.10656001 -0.03627981\n",
      "   0.02804913]\n",
      " [ 0.0323153  -0.1632002   0.02136414 ...  0.0165292  -0.0461734\n",
      "   0.00145814]\n",
      " [ 0.17471988  0.41504712  0.24967616 ... -0.06458318  0.04002619\n",
      "   0.23358359]]\n"
     ]
    }
   ],
   "source": [
    "N=inv(M)\n",
    "print (N)"
   ]
  },
  {
   "cell_type": "markdown",
   "metadata": {},
   "source": [
    "# 1.6 M−1M = MM−1 = I"
   ]
  },
  {
   "cell_type": "code",
   "execution_count": 49,
   "metadata": {},
   "outputs": [
    {
     "name": "stdout",
     "output_type": "stream",
     "text": [
      "False\n"
     ]
    }
   ],
   "source": [
    "a=np.matmul(M,inv(M))\n",
    "b=np.matmul(inv(M),M)\n",
    "print ((a==b).all())"
   ]
  },
  {
   "cell_type": "markdown",
   "metadata": {},
   "source": [
    "#The off-diagnoal elements are not exactly 0 and M-1M does not equal MM-1. \n",
    "#But the off-diagnoal elements are close to 0. \n",
    "#I think the reason might be all the elements are approximation and they are not exact value."
   ]
  },
  {
   "cell_type": "markdown",
   "metadata": {},
   "source": [
    "# 2.1 unique value "
   ]
  },
  {
   "cell_type": "code",
   "execution_count": null,
   "metadata": {},
   "outputs": [],
   "source": [
    "# Trail 1, trail 2 and trail 5 have discrete value. Trail 3 and trail 4 have continuous value."
   ]
  },
  {
   "cell_type": "code",
   "execution_count": 7,
   "metadata": {},
   "outputs": [],
   "source": [
    "from numpy import genfromtxt\n",
    "trial_data = genfromtxt('/Users/hxz/Desktop/sample_trials.csv', delimiter=',' ,  skip_header=1)"
   ]
  },
  {
   "cell_type": "code",
   "execution_count": 33,
   "metadata": {},
   "outputs": [
    {
     "name": "stdout",
     "output_type": "stream",
     "text": [
      "The number of unique elements is:\n",
      "9\n",
      "[0. 1. 2. 3. 4. 5. 6. 7. 8.]\n"
     ]
    }
   ],
   "source": [
    "#1\n",
    "unique_elements, counts_elements = np.unique(trial_data[:,0], return_counts=True)\n",
    "print(\"The number of unique elements is:\")\n",
    "print(counts_elements.shape[0])\n",
    "print(unique_elements)"
   ]
  },
  {
   "cell_type": "code",
   "execution_count": 34,
   "metadata": {},
   "outputs": [
    {
     "name": "stdout",
     "output_type": "stream",
     "text": [
      "The number of unique elements is:\n",
      "6\n",
      "[1. 2. 3. 4. 5. 6.]\n"
     ]
    }
   ],
   "source": [
    "#2\n",
    "unique_elements, counts_elements = np.unique(trial_data[:,1], return_counts=True)\n",
    "print(\"The number of unique elements is:\")\n",
    "print(counts_elements.shape[0])\n",
    "print(unique_elements)"
   ]
  },
  {
   "cell_type": "code",
   "execution_count": 35,
   "metadata": {},
   "outputs": [
    {
     "name": "stdout",
     "output_type": "stream",
     "text": [
      "The number of unique elements is:\n",
      "5000\n",
      "[3.71361746e-04 6.13935287e-04 8.94901571e-04 ... 9.99859300e-01\n",
      " 9.99884820e-01 9.99891598e-01]\n"
     ]
    }
   ],
   "source": [
    "#3\n",
    "unique_elements, counts_elements = np.unique(trial_data[:,2], return_counts=True)\n",
    "print(\"The number of unique elements is:\")\n",
    "print(counts_elements.shape[0])\n",
    "print(unique_elements)"
   ]
  },
  {
   "cell_type": "code",
   "execution_count": 36,
   "metadata": {},
   "outputs": [
    {
     "name": "stdout",
     "output_type": "stream",
     "text": [
      "The number of unique elements is:\n",
      "5000\n",
      "[-4.45398123 -3.45246167 -3.35820121 ...  3.40187852  3.51730869\n",
      "  3.81068688]\n"
     ]
    }
   ],
   "source": [
    "#4\n",
    "unique_elements, counts_elements = np.unique(trial_data[:,3], return_counts=True)\n",
    "print(\"The number of unique elements is:\")\n",
    "print(counts_elements.shape[0])\n",
    "print(unique_elements)"
   ]
  },
  {
   "cell_type": "code",
   "execution_count": 37,
   "metadata": {},
   "outputs": [
    {
     "name": "stdout",
     "output_type": "stream",
     "text": [
      "The number of unique elements is:\n",
      "2\n",
      "[0. 1.]\n"
     ]
    }
   ],
   "source": [
    "#5\n",
    "unique_elements, counts_elements = np.unique(trial_data[:,4], return_counts=True)\n",
    "print(\"The number of unique elements is:\")\n",
    "print(counts_elements.shape[0])\n",
    "print(unique_elements)"
   ]
  },
  {
   "cell_type": "markdown",
   "metadata": {},
   "source": [
    "# 2.2 min, max, mean, variance"
   ]
  },
  {
   "cell_type": "code",
   "execution_count": 41,
   "metadata": {},
   "outputs": [
    {
     "name": "stdout",
     "output_type": "stream",
     "text": [
      "0.0\n",
      "1.0\n",
      "0.00037136174624674556\n",
      "-4.453981228831423\n",
      "0.0\n"
     ]
    }
   ],
   "source": [
    "#min\n",
    "print (min(trial_data[:,0]))\n",
    "print (min(trial_data[:,1]))\n",
    "print (min(trial_data[:,2]))\n",
    "print (min(trial_data[:,3]))\n",
    "print (min(trial_data[:,4]))"
   ]
  },
  {
   "cell_type": "code",
   "execution_count": 43,
   "metadata": {},
   "outputs": [
    {
     "name": "stdout",
     "output_type": "stream",
     "text": [
      "8.0\n",
      "6.0\n",
      "0.9998915976210577\n",
      "3.810686879834815\n",
      "1.0\n"
     ]
    }
   ],
   "source": [
    "#max\n",
    "print(max(trial_data[:,0]))\n",
    "print(max(trial_data[:,1]))\n",
    "print(max(trial_data[:,2]))\n",
    "print(max(trial_data[:,3]))\n",
    "print(max(trial_data[:,4]))"
   ]
  },
  {
   "cell_type": "code",
   "execution_count": 68,
   "metadata": {},
   "outputs": [
    {
     "name": "stdout",
     "output_type": "stream",
     "text": [
      "1.9898\n",
      "3.5028\n",
      "0.49743933618608815\n",
      "0.025130676760924172\n",
      "0.305\n"
     ]
    }
   ],
   "source": [
    "#mean\n",
    "print (np.mean(trial_data[:,0]))\n",
    "print (np.mean(trial_data[:,1]))\n",
    "print (np.mean(trial_data[:,2]))\n",
    "print (np.mean(trial_data[:,3]))\n",
    "print (np.mean(trial_data[:,4]))"
   ]
  },
  {
   "cell_type": "code",
   "execution_count": 69,
   "metadata": {},
   "outputs": [
    {
     "name": "stdout",
     "output_type": "stream",
     "text": [
      "1.9616959600000001\n",
      "2.90839216\n",
      "0.08355261995766033\n",
      "0.9953101806208575\n",
      "0.211975\n"
     ]
    }
   ],
   "source": [
    "# variance\n",
    "print (np.var(trial_data[:,0]))\n",
    "print (np.var(trial_data[:,1]))\n",
    "print (np.var(trial_data[:,2]))\n",
    "print (np.var(trial_data[:,3]))\n",
    "print (np.var(trial_data[:,4]))"
   ]
  },
  {
   "cell_type": "markdown",
   "metadata": {},
   "source": [
    "# 2.3  plot"
   ]
  },
  {
   "cell_type": "code",
   "execution_count": 161,
   "metadata": {},
   "outputs": [
    {
     "name": "stdout",
     "output_type": "stream",
     "text": [
      "[-0.5  0.5  1.5  2.5  3.5  4.5  5.5  6.5  7.5  8.5]\n"
     ]
    }
   ],
   "source": [
    "binblock=np.arange(-.5, 9, 1)\n",
    "print (binblock)"
   ]
  },
  {
   "cell_type": "code",
   "execution_count": 162,
   "metadata": {},
   "outputs": [
    {
     "data": {
      "image/png": "[encoded data removed]",
      "text/plain": [
       "<Figure size 432x288 with 1 Axes>"
      ]
     },
     "metadata": {
      "needs_background": "light"
     },
     "output_type": "display_data"
    }
   ],
   "source": [
    "plt.hist(trial_data[:,0], bins = binblock, rwidth=0.8)\n",
    "plt.title(\"The First Column\")\n",
    "plt.show()\n",
    "#possion distribution"
   ]
  },
  {
   "cell_type": "code",
   "execution_count": 124,
   "metadata": {},
   "outputs": [
    {
     "name": "stdout",
     "output_type": "stream",
     "text": [
      "[-0.5  0.5  1.5  2.5  3.5  4.5  5.5  6.5  7.5]\n"
     ]
    }
   ],
   "source": [
    "binblock=np.arange(-.5, 8, 1)\n",
    "print (binblock)"
   ]
  },
  {
   "cell_type": "code",
   "execution_count": 125,
   "metadata": {},
   "outputs": [
    {
     "data": {
      "image/png": "[encoded data removed]",
      "text/plain": [
       "<Figure size 432x288 with 1 Axes>"
      ]
     },
     "metadata": {
      "needs_background": "light"
     },
     "output_type": "display_data"
    }
   ],
   "source": [
    "plt.hist(trial_data[:,1], bins = binblock, rwidth=0.8)\n",
    "plt.title(\"The Second Column\")\n",
    "plt.show()\n",
    "#uniform distribution"
   ]
  },
  {
   "cell_type": "code",
   "execution_count": 46,
   "metadata": {},
   "outputs": [
    {
     "name": "stdout",
     "output_type": "stream",
     "text": [
      "[0.  0.1 0.2 0.3 0.4 0.5 0.6 0.7 0.8 0.9]\n"
     ]
    }
   ],
   "source": [
    "binblock=np.arange(0, 1, 0.1)\n",
    "print (binblock)"
   ]
  },
  {
   "cell_type": "code",
   "execution_count": 47,
   "metadata": {},
   "outputs": [
    {
     "data": {
      "image/png": "[encoded data removed]",
      "text/plain": [
       "<Figure size 432x288 with 1 Axes>"
      ]
     },
     "metadata": {
      "needs_background": "light"
     },
     "output_type": "display_data"
    }
   ],
   "source": [
    "plt.hist(trial_data[:,2], bins = binblock, rwidth=0.8)\n",
    "plt.title(\"The Third Column\")\n",
    "plt.show()\n",
    "#uniform distribution"
   ]
  },
  {
   "cell_type": "code",
   "execution_count": 169,
   "metadata": {},
   "outputs": [
    {
     "name": "stdout",
     "output_type": "stream",
     "text": [
      "[-4.00000000e+00 -3.90000000e+00 -3.80000000e+00 -3.70000000e+00\n",
      " -3.60000000e+00 -3.50000000e+00 -3.40000000e+00 -3.30000000e+00\n",
      " -3.20000000e+00 -3.10000000e+00 -3.00000000e+00 -2.90000000e+00\n",
      " -2.80000000e+00 -2.70000000e+00 -2.60000000e+00 -2.50000000e+00\n",
      " -2.40000000e+00 -2.30000000e+00 -2.20000000e+00 -2.10000000e+00\n",
      " -2.00000000e+00 -1.90000000e+00 -1.80000000e+00 -1.70000000e+00\n",
      " -1.60000000e+00 -1.50000000e+00 -1.40000000e+00 -1.30000000e+00\n",
      " -1.20000000e+00 -1.10000000e+00 -1.00000000e+00 -9.00000000e-01\n",
      " -8.00000000e-01 -7.00000000e-01 -6.00000000e-01 -5.00000000e-01\n",
      " -4.00000000e-01 -3.00000000e-01 -2.00000000e-01 -1.00000000e-01\n",
      "  3.55271368e-15  1.00000000e-01  2.00000000e-01  3.00000000e-01\n",
      "  4.00000000e-01  5.00000000e-01  6.00000000e-01  7.00000000e-01\n",
      "  8.00000000e-01  9.00000000e-01  1.00000000e+00  1.10000000e+00\n",
      "  1.20000000e+00  1.30000000e+00  1.40000000e+00  1.50000000e+00\n",
      "  1.60000000e+00  1.70000000e+00  1.80000000e+00  1.90000000e+00\n",
      "  2.00000000e+00  2.10000000e+00  2.20000000e+00  2.30000000e+00\n",
      "  2.40000000e+00  2.50000000e+00  2.60000000e+00  2.70000000e+00\n",
      "  2.80000000e+00  2.90000000e+00  3.00000000e+00  3.10000000e+00\n",
      "  3.20000000e+00  3.30000000e+00  3.40000000e+00  3.50000000e+00\n",
      "  3.60000000e+00  3.70000000e+00  3.80000000e+00  3.90000000e+00]\n"
     ]
    }
   ],
   "source": [
    "binblock=np.arange(-4, 4, 0.1)\n",
    "print (binblock)"
   ]
  },
  {
   "cell_type": "code",
   "execution_count": 172,
   "metadata": {},
   "outputs": [
    {
     "data": {
      "image/png": "[encoded data removed]",
      "text/plain": [
       "<Figure size 432x288 with 1 Axes>"
      ]
     },
     "metadata": {
      "needs_background": "light"
     },
     "output_type": "display_data"
    }
   ],
   "source": [
    "plt.hist(trial_data[:,3], bins = binblock, rwidth=0.8)\n",
    "plt.title(\"The Forth Column\")\n",
    "plt.show()\n",
    "#Normal distribution"
   ]
  },
  {
   "cell_type": "code",
   "execution_count": 48,
   "metadata": {},
   "outputs": [
    {
     "name": "stdout",
     "output_type": "stream",
     "text": [
      "[-0.5  0.5  1.5]\n"
     ]
    }
   ],
   "source": [
    "binblock=np.arange(-.5, 2, 1)\n",
    "print (binblock)"
   ]
  },
  {
   "cell_type": "code",
   "execution_count": 50,
   "metadata": {},
   "outputs": [
    {
     "data": {
      "image/png": "[encoded data removed]",
      "text/plain": [
       "<Figure size 432x288 with 1 Axes>"
      ]
     },
     "metadata": {
      "needs_background": "light"
     },
     "output_type": "display_data"
    }
   ],
   "source": [
    "plt.hist(trial_data[:,4], bins = binblock, rwidth=0.5)\n",
    "plt.title(\"The Fifth Column\")\n",
    "plt.show()\n",
    "#Bernoulli Distribution"
   ]
  },
  {
   "cell_type": "markdown",
   "metadata": {},
   "source": [
    "# 2.4 fomula"
   ]
  },
  {
   "cell_type": "code",
   "execution_count": 60,
   "metadata": {},
   "outputs": [
    {
     "data": {
      "image/png": "[encoded data removed]",
      "text/plain": [
       "<Figure size 432x288 with 1 Axes>"
      ]
     },
     "metadata": {
      "needs_background": "light"
     },
     "output_type": "display_data"
    }
   ],
   "source": [
    "pic = mpimg.imread('pic.png')\n",
    "plt.imshow(pic)\n",
    "plt.axis('off') \n",
    "plt.show()"
   ]
  },
  {
   "cell_type": "markdown",
   "metadata": {},
   "source": [
    "# 2.5 txt"
   ]
  },
  {
   "cell_type": "code",
   "execution_count": 211,
   "metadata": {},
   "outputs": [],
   "source": [
    "bernoulitrial=np.random.binomial(1, 0.305, 5000)"
   ]
  },
  {
   "cell_type": "code",
   "execution_count": 212,
   "metadata": {},
   "outputs": [],
   "source": [
    "sample =  np.column_stack((bernoulitrial))"
   ]
  },
  {
   "cell_type": "code",
   "execution_count": 214,
   "metadata": {},
   "outputs": [],
   "source": [
    "np.savetxt('test.txt', sample, delimiter=\" \", fmt=\"%s\")"
   ]
  }
 ],
 "metadata": {
  "kernelspec": {
   "display_name": "Python 3",
   "language": "python",
   "name": "python3"
  },
  "language_info": {
   "codemirror_mode": {
    "name": "ipython",
    "version": 3
   },
   "file_extension": ".py",
   "mimetype": "text/x-python",
   "name": "python",
   "nbconvert_exporter": "python",
   "pygments_lexer": "ipython3",
   "version": "3.7.4"
  }
 },
 "nbformat": 4,
 "nbformat_minor": 2
}
